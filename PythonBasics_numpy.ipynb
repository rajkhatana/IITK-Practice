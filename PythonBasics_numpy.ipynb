{
 "cells": [
  {
   "cell_type": "markdown",
   "metadata": {
    "slideshow": {
     "slide_type": "slide"
    }
   },
   "source": [
    "# Numpy\n",
    "Matrix manipulation\n",
    "\n",
    "- Initializing matrix\n",
    "- Random matrix\n",
    "- Matrix Addition, Multiplication and Concatenation"
   ]
  },
  {
   "cell_type": "code",
   "execution_count": 1,
   "metadata": {
    "slideshow": {
     "slide_type": "slide"
    }
   },
   "outputs": [
    {
     "name": "stdout",
     "output_type": "stream",
     "text": [
      "[[1. 1.]\n",
      " [1. 1.]\n",
      " [1. 1.]]\n",
      "[[0. 0.]\n",
      " [0. 0.]\n",
      " [0. 0.]]\n"
     ]
    }
   ],
   "source": [
    "import numpy as np\n",
    "\n",
    "A = np.ones((3,2))\n",
    "print(A)\n",
    "\n",
    "A = np.zeros((3,2))\n",
    "print(A)"
   ]
  },
  {
   "cell_type": "code",
   "execution_count": 2,
   "metadata": {},
   "outputs": [
    {
     "name": "stdout",
     "output_type": "stream",
     "text": [
      "[[1. 0. 0.]\n",
      " [0. 1. 0.]\n",
      " [0. 0. 1.]]\n",
      "[[3 0 0]\n",
      " [0 2 0]\n",
      " [0 0 5]]\n"
     ]
    }
   ],
   "source": [
    "A = np.eye(3)\n",
    "print(A)\n",
    "\n",
    "A = np.diag([3,2,5])\n",
    "print(A)"
   ]
  },
  {
   "cell_type": "code",
   "execution_count": 3,
   "metadata": {
    "slideshow": {
     "slide_type": "slide"
    }
   },
   "outputs": [
    {
     "name": "stdout",
     "output_type": "stream",
     "text": [
      "[[0.51818663 0.10181439]\n",
      " [0.60535139 0.22385217]\n",
      " [0.42583155 0.52283401]]\n",
      "[[0.51818663 0.60535139 0.42583155]\n",
      " [0.10181439 0.22385217 0.52283401]]\n"
     ]
    }
   ],
   "source": [
    "B = np.random.random((3,2))\n",
    "print(B)\n",
    "\n",
    "print(B.T)"
   ]
  },
  {
   "cell_type": "code",
   "execution_count": 4,
   "metadata": {
    "slideshow": {
     "slide_type": "slide"
    }
   },
   "outputs": [
    {
     "name": "stdout",
     "output_type": "stream",
     "text": [
      "[[0.51818663 0.10181439]\n",
      " [0.60535139 0.22385217]\n",
      " [0.42583155 0.52283401]] \n",
      "\n",
      "0.5181866262573473\n",
      "0.6053513891507204\n",
      "0.5228340074462274\n",
      "[0.51818663 0.10181439]\n",
      "[0.10181439 0.22385217 0.52283401]\n"
     ]
    }
   ],
   "source": [
    "print(B, '\\n')\n",
    "\n",
    "print(B[0, 0])\n",
    "print(B[1,0])\n",
    "print(B[-1, -1])\n",
    "print(B[0,:])\n",
    "print(B[:,1])\n"
   ]
  },
  {
   "cell_type": "markdown",
   "metadata": {
    "slideshow": {
     "slide_type": "slide"
    }
   },
   "source": [
    "## Matrix Addition\n",
    "$C = A^{\\intercal} + 2B$"
   ]
  },
  {
   "cell_type": "code",
   "execution_count": 5,
   "metadata": {
    "slideshow": {
     "slide_type": "slide"
    }
   },
   "outputs": [
    {
     "name": "stdout",
     "output_type": "stream",
     "text": [
      "[[1. 1. 1.]\n",
      " [1. 1. 1.]]\n",
      "[[0.05930718 0.97286376]\n",
      " [0.60612471 0.84239429]\n",
      " [0.36766332 0.17042677]]\n",
      "[[1.11861436 2.94572752]\n",
      " [2.21224943 2.68478859]\n",
      " [1.73532664 1.34085354]]\n"
     ]
    }
   ],
   "source": [
    "A = np.ones((2,3))\n",
    "B = np.random.random((3,2))\n",
    "C = A.T + 2*B\n",
    "print(A)\n",
    "print(B)\n",
    "print(C)"
   ]
  },
  {
   "cell_type": "markdown",
   "metadata": {
    "slideshow": {
     "slide_type": "slide"
    }
   },
   "source": [
    "## Matrix Multiplication\n",
    "$C = AB$"
   ]
  },
  {
   "cell_type": "code",
   "execution_count": 6,
   "metadata": {
    "slideshow": {
     "slide_type": "slide"
    }
   },
   "outputs": [
    {
     "name": "stdout",
     "output_type": "stream",
     "text": [
      "[[1.03309521 1.98568483]\n",
      " [1.03309521 1.98568483]]\n"
     ]
    }
   ],
   "source": [
    "C = A.dot(B)   # Dot product \n",
    "print(C)"
   ]
  },
  {
   "cell_type": "code",
   "execution_count": 7,
   "metadata": {
    "slideshow": {
     "slide_type": "slide"
    }
   },
   "outputs": [
    {
     "name": "stdout",
     "output_type": "stream",
     "text": [
      "[[0.05930718 0.97286376]\n",
      " [0.60612471 0.84239429]\n",
      " [0.36766332 0.17042677]]\n"
     ]
    }
   ],
   "source": [
    "C = A.T * B     # Element-wise product\n",
    "print(C)"
   ]
  },
  {
   "cell_type": "markdown",
   "metadata": {
    "slideshow": {
     "slide_type": "slide"
    }
   },
   "source": [
    "## Matrix Concatenation\n",
    "$C = [A^{\\intercal},  B]$"
   ]
  },
  {
   "cell_type": "code",
   "execution_count": 8,
   "metadata": {
    "slideshow": {
     "slide_type": "slide"
    }
   },
   "outputs": [
    {
     "name": "stdout",
     "output_type": "stream",
     "text": [
      "(3, 2) (3, 2)\n",
      "[[1.         1.         0.05930718 0.97286376]\n",
      " [1.         1.         0.60612471 0.84239429]\n",
      " [1.         1.         0.36766332 0.17042677]]\n",
      "[[1.         1.        ]\n",
      " [1.         1.        ]\n",
      " [1.         1.        ]\n",
      " [0.05930718 0.97286376]\n",
      " [0.60612471 0.84239429]\n",
      " [0.36766332 0.17042677]]\n"
     ]
    }
   ],
   "source": [
    "print(A.T.shape, B.shape)\n",
    "C = np.concatenate((A.T,B), axis=1)\n",
    "D = np.concatenate((A.T,B), axis=0)\n",
    "print(C)\n",
    "print(D)"
   ]
  },
  {
   "cell_type": "code",
   "execution_count": 9,
   "metadata": {
    "slideshow": {
     "slide_type": "slide"
    }
   },
   "outputs": [
    {
     "name": "stdout",
     "output_type": "stream",
     "text": [
      "[1. 1. 1. 1. 2. 3. 4. 5.]\n",
      "[[1. 1. 1. 1.]\n",
      " [2. 3. 4. 5.]]\n"
     ]
    }
   ],
   "source": [
    "# Concatenating Vectors\n",
    "a = np.ones(4)\n",
    "b = np.array([2,3,4,5])\n",
    "X = np.hstack([a,b])\n",
    "Y = np.vstack([a,b])\n",
    "print(X)\n",
    "print(Y)"
   ]
  }
 ],
 "metadata": {
  "celltoolbar": "Slideshow",
  "kernelspec": {
   "display_name": "Python 3",
   "language": "python",
   "name": "python3"
  },
  "language_info": {
   "codemirror_mode": {
    "name": "ipython",
    "version": 3
   },
   "file_extension": ".py",
   "mimetype": "text/x-python",
   "name": "python",
   "nbconvert_exporter": "python",
   "pygments_lexer": "ipython3",
   "version": "3.6.8"
  }
 },
 "nbformat": 4,
 "nbformat_minor": 2
}
